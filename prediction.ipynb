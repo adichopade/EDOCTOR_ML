{
 "cells": [
  {
   "cell_type": "code",
   "execution_count": 1,
   "metadata": {},
   "outputs": [],
   "source": [
    "from sklearn import metrics\n",
    "from sklearn import datasets\n",
    "import pandas as pd\n",
    "import seaborn as sns\n",
    "import matplotlib.pyplot as plt\n",
    "from sklearn.neighbors import KNeighborsClassifier\n",
    "from sklearn.model_selection import train_test_split\n",
    "from sklearn.naive_bayes import MultinomialNB"
   ]
  },
  {
   "cell_type": "code",
   "execution_count": 2,
   "metadata": {},
   "outputs": [],
   "source": [
    "data = pd.read_csv('data_pivoted.csv')"
   ]
  },
  {
   "cell_type": "code",
   "execution_count": 3,
   "metadata": {},
   "outputs": [
    {
     "name": "stdout",
     "output_type": "stream",
     "text": [
      "(65, 317)\n"
     ]
    },
    {
     "data": {
      "text/html": [
       "<div>\n",
       "<style scoped>\n",
       "    .dataframe tbody tr th:only-of-type {\n",
       "        vertical-align: middle;\n",
       "    }\n",
       "\n",
       "    .dataframe tbody tr th {\n",
       "        vertical-align: top;\n",
       "    }\n",
       "\n",
       "    .dataframe thead th {\n",
       "        text-align: right;\n",
       "    }\n",
       "</style>\n",
       "<table border=\"1\" class=\"dataframe\">\n",
       "  <thead>\n",
       "    <tr style=\"text-align: right;\">\n",
       "      <th></th>\n",
       "      <th>disease</th>\n",
       "      <th>abdomen acute</th>\n",
       "      <th>abdominal tenderness</th>\n",
       "      <th>abnormally hard consistency</th>\n",
       "      <th>abortion</th>\n",
       "      <th>abscess bacterial</th>\n",
       "      <th>absences finding</th>\n",
       "      <th>achalasia</th>\n",
       "      <th>agitation</th>\n",
       "      <th>air fluid level</th>\n",
       "      <th>...</th>\n",
       "      <th>vision blurred</th>\n",
       "      <th>vomiting</th>\n",
       "      <th>weepiness</th>\n",
       "      <th>weight gain</th>\n",
       "      <th>welt</th>\n",
       "      <th>wheelchair bound</th>\n",
       "      <th>wheezing</th>\n",
       "      <th>withdraw</th>\n",
       "      <th>worry</th>\n",
       "      <th>yellow sputum</th>\n",
       "    </tr>\n",
       "  </thead>\n",
       "  <tbody>\n",
       "    <tr>\n",
       "      <td>0</td>\n",
       "      <td>acquired immuno-deficiency syndrome</td>\n",
       "      <td>0.0</td>\n",
       "      <td>0.0</td>\n",
       "      <td>0.0</td>\n",
       "      <td>0.0</td>\n",
       "      <td>0.0</td>\n",
       "      <td>0.0</td>\n",
       "      <td>0.0</td>\n",
       "      <td>0.0</td>\n",
       "      <td>0.0</td>\n",
       "      <td>...</td>\n",
       "      <td>0.0</td>\n",
       "      <td>0.0</td>\n",
       "      <td>0.0</td>\n",
       "      <td>0.0</td>\n",
       "      <td>0.0</td>\n",
       "      <td>0.0</td>\n",
       "      <td>0.0</td>\n",
       "      <td>0.0</td>\n",
       "      <td>0.0</td>\n",
       "      <td>0.0</td>\n",
       "    </tr>\n",
       "    <tr>\n",
       "      <td>1</td>\n",
       "      <td>adhesion</td>\n",
       "      <td>0.0</td>\n",
       "      <td>0.0</td>\n",
       "      <td>0.0</td>\n",
       "      <td>0.0</td>\n",
       "      <td>0.0</td>\n",
       "      <td>0.0</td>\n",
       "      <td>0.0</td>\n",
       "      <td>0.0</td>\n",
       "      <td>0.0</td>\n",
       "      <td>...</td>\n",
       "      <td>0.0</td>\n",
       "      <td>1.0</td>\n",
       "      <td>0.0</td>\n",
       "      <td>0.0</td>\n",
       "      <td>0.0</td>\n",
       "      <td>0.0</td>\n",
       "      <td>0.0</td>\n",
       "      <td>0.0</td>\n",
       "      <td>0.0</td>\n",
       "      <td>0.0</td>\n",
       "    </tr>\n",
       "  </tbody>\n",
       "</table>\n",
       "<p>2 rows × 317 columns</p>\n",
       "</div>"
      ],
      "text/plain": [
       "                               disease  abdomen acute  abdominal tenderness  \\\n",
       "0  acquired immuno-deficiency syndrome            0.0                   0.0   \n",
       "1                             adhesion            0.0                   0.0   \n",
       "\n",
       "   abnormally hard consistency  abortion  abscess bacterial  absences finding  \\\n",
       "0                          0.0       0.0                0.0               0.0   \n",
       "1                          0.0       0.0                0.0               0.0   \n",
       "\n",
       "   achalasia  agitation  air fluid level  ...  vision blurred  vomiting  \\\n",
       "0        0.0        0.0              0.0  ...             0.0       0.0   \n",
       "1        0.0        0.0              0.0  ...             0.0       1.0   \n",
       "\n",
       "   weepiness  weight gain  welt  wheelchair bound  wheezing  withdraw  worry  \\\n",
       "0        0.0          0.0   0.0               0.0       0.0       0.0    0.0   \n",
       "1        0.0          0.0   0.0               0.0       0.0       0.0    0.0   \n",
       "\n",
       "   yellow sputum  \n",
       "0            0.0  \n",
       "1            0.0  \n",
       "\n",
       "[2 rows x 317 columns]"
      ]
     },
     "execution_count": 3,
     "metadata": {},
     "output_type": "execute_result"
    }
   ],
   "source": [
    "print(data.shape)\n",
    "data = data.fillna(0)\n",
    "data.head(2)\n"
   ]
  },
  {
   "cell_type": "code",
   "execution_count": 4,
   "metadata": {},
   "outputs": [
    {
     "name": "stdout",
     "output_type": "stream",
     "text": [
      "<class 'pandas.core.frame.DataFrame'>\n",
      "RangeIndex: 65 entries, 0 to 64\n",
      "Columns: 317 entries, disease to yellow sputum\n",
      "dtypes: float64(316), object(1)\n",
      "memory usage: 161.1+ KB\n",
      "None\n"
     ]
    }
   ],
   "source": [
    "print(data.info())"
   ]
  },
  {
   "cell_type": "code",
   "execution_count": 5,
   "metadata": {},
   "outputs": [],
   "source": [
    "cols = data.columns.tolist()\n",
    "cols.remove('disease')\n",
    "x = data[cols]\n",
    "y = data.disease"
   ]
  },
  {
   "cell_type": "code",
   "execution_count": 6,
   "metadata": {},
   "outputs": [
    {
     "name": "stdout",
     "output_type": "stream",
     "text": [
      "0     acquired immuno-deficiency syndrome\n",
      "1                                adhesion\n",
      "2                           affect labile\n",
      "3                     Alzheimer's disease\n",
      "4                                  anemia\n",
      "                     ...                 \n",
      "60                      tachycardia sinus\n",
      "61                               thrombus\n",
      "62                  tonic-clonic epilepsy\n",
      "63              transient ischemic attack\n",
      "64          tricuspid valve insufficiency\n",
      "Name: disease, Length: 65, dtype: object\n"
     ]
    }
   ],
   "source": [
    "print(y)"
   ]
  },
  {
   "cell_type": "code",
   "execution_count": 7,
   "metadata": {},
   "outputs": [],
   "source": [
    "x_train, x_test, y_train, y_test = train_test_split(x, y, test_size=0.33, random_state=42)"
   ]
  },
  {
   "cell_type": "code",
   "execution_count": 8,
   "metadata": {},
   "outputs": [
    {
     "name": "stdout",
     "output_type": "stream",
     "text": [
      "MultinomialNB(alpha=1.0, class_prior=None, fit_prior=True)\n"
     ]
    }
   ],
   "source": [
    "mnb = MultinomialNB()\n",
    "print(mnb)"
   ]
  },
  {
   "cell_type": "code",
   "execution_count": 9,
   "metadata": {},
   "outputs": [],
   "source": [
    "mnb_tot = MultinomialNB()\n",
    "mnb_tot = mnb_tot.fit(x, y)"
   ]
  },
  {
   "cell_type": "code",
   "execution_count": 10,
   "metadata": {},
   "outputs": [
    {
     "data": {
      "text/plain": [
       "0.9846153846153847"
      ]
     },
     "execution_count": 10,
     "metadata": {},
     "output_type": "execute_result"
    }
   ],
   "source": [
    "mnb_tot.score(x, y)"
   ]
  },
  {
   "cell_type": "code",
   "execution_count": 11,
   "metadata": {},
   "outputs": [],
   "source": [
    "disease_pred = mnb_tot.predict(x_train[0:])"
   ]
  },
  {
   "cell_type": "code",
   "execution_count": 12,
   "metadata": {},
   "outputs": [],
   "source": [
    "disease_real = y_train.values"
   ]
  },
  {
   "cell_type": "code",
   "execution_count": 13,
   "metadata": {},
   "outputs": [
    {
     "name": "stdout",
     "output_type": "stream",
     "text": [
      "['anemia' 'obesity' 'ileus' 'depressive disorder' 'psychotic disorder'\n",
      " 'sepsis (invertebrate)' 'respiratory failure' 'osteoporosis'\n",
      " 'hernia hiatal' 'malignant tumor of colon' 'tonic-clonic epilepsy'\n",
      " 'decubitus ulcer' 'fibroid tumor' 'failure kidney' 'epilepsy'\n",
      " 'neoplasm metastasis' 'chronic alcoholic intoxication'\n",
      " 'hyperbilirubinemia' 'sickle cell anemia' 'neoplasm' 'incontinence'\n",
      " 'gout' 'carcinoma prostate' 'obesity morbid' 'adhesion'\n",
      " 'embolism pulmonary' 'affect labile' 'paroxysmal dyspnea' 'influenza'\n",
      " 'hypothyroidism' 'endocarditis' 'primary malignant neoplasm'\n",
      " 'cholecystitis' 'encephalopathy' 'dehydration' 'schizophrenia'\n",
      " 'infection urinary tract' 'diverticulosis' 'biliary calculus'\n",
      " 'malignant neoplasm of breast' 'coronary arteriosclerosis' 'gastritis'\n",
      " 'paranoia']\n"
     ]
    }
   ],
   "source": [
    "print(disease_pred)"
   ]
  },
  {
   "cell_type": "code",
   "execution_count": 14,
   "metadata": {},
   "outputs": [
    {
     "name": "stdout",
     "output_type": "stream",
     "text": [
      "Pred: carcinoma prostate Really:malignant neoplasm of prostate\n"
     ]
    }
   ],
   "source": [
    "for i in range(0, len(disease_real)):\n",
    "    if disease_pred[i]!=disease_real[i]:\n",
    "        print ('Pred: {0} Really:{1}'.format(disease_pred[i], disease_real[i]))"
   ]
  },
  {
   "cell_type": "code",
   "execution_count": 15,
   "metadata": {},
   "outputs": [
    {
     "name": "stdout",
     "output_type": "stream",
     "text": [
      "    abdomen acute  abdominal tenderness  abnormally hard consistency  \\\n",
      "4             0.0                   0.0                          0.0   \n",
      "48            0.0                   0.0                          0.0   \n",
      "36            1.0                   1.0                          0.0   \n",
      "19            0.0                   0.0                          0.0   \n",
      "55            0.0                   0.0                          0.0   \n",
      "58            0.0                   0.0                          0.0   \n",
      "56            0.0                   0.0                          0.0   \n",
      "50            0.0                   0.0                          0.0   \n",
      "31            0.0                   0.0                          0.0   \n",
      "44            0.0                   0.0                          0.0   \n",
      "62            0.0                   0.0                          0.0   \n",
      "15            0.0                   0.0                          0.0   \n",
      "27            0.0                   0.0                          1.0   \n",
      "26            0.0                   0.0                          0.0   \n",
      "24            0.0                   0.0                          0.0   \n",
      "47            0.0                   0.0                          0.0   \n",
      "11            0.0                   0.0                          0.0   \n",
      "32            0.0                   0.0                          0.0   \n",
      "59            0.0                   0.0                          0.0   \n",
      "46            0.0                   0.0                          0.0   \n",
      "37            0.0                   0.0                          0.0   \n",
      "29            0.0                   0.0                          0.0   \n",
      "43            0.0                   0.0                          0.0   \n",
      "49            0.0                   0.0                          0.0   \n",
      "1             0.0                   0.0                          0.0   \n",
      "21            0.0                   0.0                          0.0   \n",
      "2             0.0                   0.0                          0.0   \n",
      "52            0.0                   0.0                          0.0   \n",
      "39            0.0                   0.0                          0.0   \n",
      "35            0.0                   0.0                          0.0   \n",
      "23            0.0                   0.0                          0.0   \n",
      "54            0.0                   0.0                          0.0   \n",
      "10            0.0                   0.0                          1.0   \n",
      "22            0.0                   0.0                          0.0   \n",
      "18            0.0                   0.0                          0.0   \n",
      "57            0.0                   0.0                          0.0   \n",
      "38            0.0                   0.0                          0.0   \n",
      "20            0.0                   0.0                          0.0   \n",
      "7             0.0                   0.0                          0.0   \n",
      "42            0.0                   0.0                          0.0   \n",
      "14            0.0                   0.0                          0.0   \n",
      "28            0.0                   0.0                          0.0   \n",
      "51            0.0                   0.0                          0.0   \n",
      "\n",
      "    abortion  abscess bacterial  absences finding  achalasia  agitation  \\\n",
      "4        0.0                0.0               0.0        0.0        0.0   \n",
      "48       0.0                0.0               0.0        0.0        0.0   \n",
      "36       0.0                1.0               0.0        0.0        0.0   \n",
      "19       0.0                0.0               0.0        0.0        1.0   \n",
      "55       0.0                0.0               0.0        0.0        1.0   \n",
      "58       0.0                0.0               0.0        0.0        0.0   \n",
      "56       0.0                0.0               0.0        0.0        0.0   \n",
      "50       0.0                0.0               0.0        0.0        0.0   \n",
      "31       0.0                0.0               0.0        0.0        0.0   \n",
      "44       0.0                0.0               0.0        0.0        0.0   \n",
      "62       0.0                0.0               1.0        0.0        0.0   \n",
      "15       0.0                0.0               0.0        0.0        0.0   \n",
      "27       1.0                0.0               0.0        0.0        0.0   \n",
      "26       0.0                0.0               0.0        0.0        0.0   \n",
      "24       0.0                0.0               0.0        0.0        0.0   \n",
      "47       0.0                0.0               0.0        0.0        0.0   \n",
      "11       0.0                0.0               0.0        0.0        0.0   \n",
      "32       0.0                0.0               0.0        0.0        0.0   \n",
      "59       0.0                0.0               0.0        0.0        0.0   \n",
      "46       0.0                0.0               0.0        0.0        0.0   \n",
      "37       0.0                0.0               0.0        0.0        0.0   \n",
      "29       0.0                0.0               0.0        0.0        0.0   \n",
      "43       0.0                0.0               0.0        0.0        0.0   \n",
      "49       0.0                0.0               0.0        0.0        0.0   \n",
      "1        0.0                0.0               0.0        0.0        0.0   \n",
      "21       0.0                0.0               0.0        0.0        0.0   \n",
      "2        0.0                0.0               0.0        0.0        0.0   \n",
      "52       0.0                0.0               0.0        0.0        0.0   \n",
      "39       0.0                0.0               0.0        0.0        0.0   \n",
      "35       0.0                0.0               0.0        0.0        1.0   \n",
      "23       0.0                1.0               0.0        0.0        0.0   \n",
      "54       0.0                0.0               0.0        0.0        0.0   \n",
      "10       0.0                0.0               0.0        0.0        0.0   \n",
      "22       0.0                0.0               1.0        0.0        0.0   \n",
      "18       0.0                0.0               0.0        0.0        0.0   \n",
      "57       0.0                0.0               0.0        0.0        1.0   \n",
      "38       0.0                0.0               0.0        0.0        0.0   \n",
      "20       0.0                1.0               0.0        0.0        0.0   \n",
      "7        0.0                0.0               0.0        0.0        0.0   \n",
      "42       0.0                0.0               0.0        0.0        0.0   \n",
      "14       0.0                0.0               0.0        0.0        0.0   \n",
      "28       0.0                0.0               0.0        0.0        0.0   \n",
      "51       0.0                0.0               0.0        0.0        1.0   \n",
      "\n",
      "    air fluid level  alcohol binge episode  ...  vision blurred  vomiting  \\\n",
      "4               0.0                    0.0  ...             0.0       0.0   \n",
      "48              0.0                    0.0  ...             0.0       0.0   \n",
      "36              1.0                    0.0  ...             0.0       0.0   \n",
      "19              0.0                    0.0  ...             0.0       0.0   \n",
      "55              0.0                    0.0  ...             0.0       0.0   \n",
      "58              0.0                    0.0  ...             0.0       0.0   \n",
      "56              0.0                    0.0  ...             0.0       0.0   \n",
      "50              0.0                    0.0  ...             0.0       0.0   \n",
      "31              0.0                    0.0  ...             0.0       1.0   \n",
      "44              0.0                    0.0  ...             0.0       1.0   \n",
      "62              0.0                    0.0  ...             0.0       0.0   \n",
      "15              0.0                    0.0  ...             0.0       0.0   \n",
      "27              0.0                    0.0  ...             0.0       0.0   \n",
      "26              0.0                    0.0  ...             0.0       0.0   \n",
      "24              0.0                    0.0  ...             0.0       0.0   \n",
      "47              0.0                    0.0  ...             0.0       0.0   \n",
      "11              0.0                    0.0  ...             0.0       0.0   \n",
      "32              0.0                    0.0  ...             0.0       0.0   \n",
      "59              0.0                    0.0  ...             0.0       0.0   \n",
      "46              0.0                    0.0  ...             0.0       0.0   \n",
      "37              0.0                    0.0  ...             0.0       0.0   \n",
      "29              0.0                    0.0  ...             0.0       0.0   \n",
      "43              0.0                    0.0  ...             0.0       0.0   \n",
      "49              0.0                    0.0  ...             0.0       0.0   \n",
      "1               0.0                    0.0  ...             0.0       1.0   \n",
      "21              0.0                    0.0  ...             0.0       0.0   \n",
      "2               0.0                    0.0  ...             0.0       0.0   \n",
      "52              0.0                    0.0  ...             0.0       0.0   \n",
      "39              0.0                    0.0  ...             0.0       0.0   \n",
      "35              0.0                    0.0  ...             0.0       1.0   \n",
      "23              0.0                    0.0  ...             0.0       0.0   \n",
      "54              0.0                    0.0  ...             0.0       0.0   \n",
      "10              0.0                    0.0  ...             0.0       0.0   \n",
      "22              0.0                    0.0  ...             0.0       0.0   \n",
      "18              0.0                    0.0  ...             0.0       1.0   \n",
      "57              0.0                    0.0  ...             0.0       0.0   \n",
      "38              0.0                    0.0  ...             0.0       0.0   \n",
      "20              0.0                    0.0  ...             0.0       0.0   \n",
      "7               0.0                    0.0  ...             0.0       1.0   \n",
      "42              0.0                    0.0  ...             0.0       0.0   \n",
      "14              0.0                    0.0  ...             0.0       0.0   \n",
      "28              0.0                    0.0  ...             0.0       1.0   \n",
      "51              0.0                    0.0  ...             0.0       0.0   \n",
      "\n",
      "    weepiness  weight gain  welt  wheelchair bound  wheezing  withdraw  worry  \\\n",
      "4         0.0          0.0   0.0               0.0       0.0       0.0    0.0   \n",
      "48        0.0          0.0   0.0               0.0       0.0       0.0    0.0   \n",
      "36        0.0          0.0   0.0               0.0       0.0       0.0    0.0   \n",
      "19        1.0          0.0   0.0               0.0       0.0       0.0    1.0   \n",
      "55        1.0          0.0   0.0               0.0       0.0       1.0    1.0   \n",
      "58        0.0          0.0   0.0               0.0       0.0       0.0    0.0   \n",
      "56        0.0          0.0   0.0               0.0       0.0       0.0    0.0   \n",
      "50        0.0          0.0   0.0               0.0       0.0       0.0    0.0   \n",
      "31        0.0          0.0   0.0               0.0       0.0       0.0    0.0   \n",
      "44        0.0          0.0   0.0               0.0       0.0       0.0    0.0   \n",
      "62        0.0          0.0   0.0               0.0       0.0       0.0    0.0   \n",
      "15        0.0          0.0   0.0               0.0       0.0       0.0    0.0   \n",
      "27        0.0          0.0   0.0               0.0       0.0       0.0    0.0   \n",
      "26        0.0          0.0   0.0               0.0       0.0       0.0    0.0   \n",
      "24        0.0          0.0   0.0               1.0       0.0       0.0    0.0   \n",
      "47        0.0          0.0   0.0               0.0       0.0       0.0    0.0   \n",
      "11        0.0          0.0   0.0               0.0       0.0       0.0    0.0   \n",
      "32        0.0          0.0   0.0               0.0       0.0       0.0    0.0   \n",
      "59        0.0          0.0   0.0               0.0       0.0       0.0    0.0   \n",
      "46        0.0          0.0   0.0               0.0       0.0       0.0    0.0   \n",
      "37        0.0          0.0   0.0               0.0       0.0       0.0    0.0   \n",
      "29        0.0          0.0   0.0               0.0       0.0       0.0    0.0   \n",
      "43        0.0          0.0   0.0               0.0       0.0       0.0    0.0   \n",
      "49        0.0          0.0   0.0               0.0       1.0       0.0    0.0   \n",
      "1         0.0          0.0   0.0               0.0       0.0       0.0    0.0   \n",
      "21        0.0          0.0   0.0               0.0       1.0       0.0    0.0   \n",
      "2         0.0          0.0   0.0               0.0       0.0       0.0    0.0   \n",
      "52        0.0          1.0   0.0               0.0       0.0       0.0    0.0   \n",
      "39        0.0          0.0   0.0               0.0       0.0       0.0    0.0   \n",
      "35        0.0          1.0   0.0               0.0       0.0       0.0    0.0   \n",
      "23        0.0          0.0   0.0               0.0       0.0       0.0    0.0   \n",
      "54        0.0          0.0   0.0               0.0       0.0       0.0    0.0   \n",
      "10        0.0          0.0   0.0               0.0       0.0       0.0    0.0   \n",
      "22        0.0          0.0   0.0               0.0       0.0       0.0    0.0   \n",
      "18        0.0          0.0   0.0               0.0       0.0       0.0    0.0   \n",
      "57        0.0          0.0   0.0               0.0       0.0       0.0    1.0   \n",
      "38        0.0          0.0   0.0               0.0       0.0       0.0    0.0   \n",
      "20        0.0          0.0   0.0               0.0       0.0       0.0    0.0   \n",
      "7         0.0          0.0   0.0               0.0       0.0       0.0    0.0   \n",
      "42        0.0          0.0   0.0               0.0       0.0       0.0    0.0   \n",
      "14        0.0          0.0   0.0               0.0       0.0       0.0    0.0   \n",
      "28        0.0          0.0   0.0               0.0       0.0       0.0    0.0   \n",
      "51        0.0          0.0   0.0               0.0       0.0       0.0    0.0   \n",
      "\n",
      "    yellow sputum  \n",
      "4             0.0  \n",
      "48            0.0  \n",
      "36            0.0  \n",
      "19            0.0  \n",
      "55            0.0  \n",
      "58            0.0  \n",
      "56            0.0  \n",
      "50            0.0  \n",
      "31            0.0  \n",
      "44            0.0  \n",
      "62            0.0  \n",
      "15            0.0  \n",
      "27            0.0  \n",
      "26            0.0  \n",
      "24            0.0  \n",
      "47            0.0  \n",
      "11            0.0  \n",
      "32            0.0  \n",
      "59            0.0  \n",
      "46            0.0  \n",
      "37            0.0  \n",
      "29            0.0  \n",
      "43            0.0  \n",
      "49            0.0  \n",
      "1             0.0  \n",
      "21            1.0  \n",
      "2             0.0  \n",
      "52            0.0  \n",
      "39            0.0  \n",
      "35            0.0  \n",
      "23            0.0  \n",
      "54            0.0  \n",
      "10            0.0  \n",
      "22            0.0  \n",
      "18            0.0  \n",
      "57            0.0  \n",
      "38            0.0  \n",
      "20            0.0  \n",
      "7             0.0  \n",
      "42            0.0  \n",
      "14            0.0  \n",
      "28            0.0  \n",
      "51            0.0  \n",
      "\n",
      "[43 rows x 316 columns]\n"
     ]
    }
   ],
   "source": [
    "print(x_train)"
   ]
  },
  {
   "cell_type": "code",
   "execution_count": 16,
   "metadata": {},
   "outputs": [],
   "source": [
    "dataa=pd.DataFrame(columns = data.columns[1:])"
   ]
  },
  {
   "cell_type": "code",
   "execution_count": 37,
   "metadata": {},
   "outputs": [],
   "source": [
    "modD = dataa.append({'abscess bacterial':0,'yellow sputum':1,'abnormally hard consistency':0,'alcohol binge episode':0,'decreased body weight':0,'vomiting':0,'worry':0},ignore_index=True )\n",
    "    "
   ]
  },
  {
   "cell_type": "code",
   "execution_count": 38,
   "metadata": {},
   "outputs": [],
   "source": [
    "find=modD.fillna(0)"
   ]
  },
  {
   "cell_type": "code",
   "execution_count": 39,
   "metadata": {},
   "outputs": [
    {
     "data": {
      "text/html": [
       "<div>\n",
       "<style scoped>\n",
       "    .dataframe tbody tr th:only-of-type {\n",
       "        vertical-align: middle;\n",
       "    }\n",
       "\n",
       "    .dataframe tbody tr th {\n",
       "        vertical-align: top;\n",
       "    }\n",
       "\n",
       "    .dataframe thead th {\n",
       "        text-align: right;\n",
       "    }\n",
       "</style>\n",
       "<table border=\"1\" class=\"dataframe\">\n",
       "  <thead>\n",
       "    <tr style=\"text-align: right;\">\n",
       "      <th></th>\n",
       "      <th>abdomen acute</th>\n",
       "      <th>abdominal tenderness</th>\n",
       "      <th>abnormally hard consistency</th>\n",
       "      <th>abortion</th>\n",
       "      <th>abscess bacterial</th>\n",
       "      <th>absences finding</th>\n",
       "      <th>achalasia</th>\n",
       "      <th>agitation</th>\n",
       "      <th>air fluid level</th>\n",
       "      <th>alcohol binge episode</th>\n",
       "      <th>...</th>\n",
       "      <th>vision blurred</th>\n",
       "      <th>vomiting</th>\n",
       "      <th>weepiness</th>\n",
       "      <th>weight gain</th>\n",
       "      <th>welt</th>\n",
       "      <th>wheelchair bound</th>\n",
       "      <th>wheezing</th>\n",
       "      <th>withdraw</th>\n",
       "      <th>worry</th>\n",
       "      <th>yellow sputum</th>\n",
       "    </tr>\n",
       "  </thead>\n",
       "  <tbody>\n",
       "    <tr>\n",
       "      <td>0</td>\n",
       "      <td>0.0</td>\n",
       "      <td>0.0</td>\n",
       "      <td>0.0</td>\n",
       "      <td>0.0</td>\n",
       "      <td>0.0</td>\n",
       "      <td>0.0</td>\n",
       "      <td>0.0</td>\n",
       "      <td>0.0</td>\n",
       "      <td>0.0</td>\n",
       "      <td>0.0</td>\n",
       "      <td>...</td>\n",
       "      <td>0.0</td>\n",
       "      <td>0.0</td>\n",
       "      <td>0.0</td>\n",
       "      <td>0.0</td>\n",
       "      <td>0.0</td>\n",
       "      <td>0.0</td>\n",
       "      <td>0.0</td>\n",
       "      <td>0.0</td>\n",
       "      <td>0.0</td>\n",
       "      <td>1.0</td>\n",
       "    </tr>\n",
       "  </tbody>\n",
       "</table>\n",
       "<p>1 rows × 316 columns</p>\n",
       "</div>"
      ],
      "text/plain": [
       "   abdomen acute  abdominal tenderness  abnormally hard consistency  abortion  \\\n",
       "0            0.0                   0.0                          0.0       0.0   \n",
       "\n",
       "   abscess bacterial  absences finding  achalasia  agitation  air fluid level  \\\n",
       "0                0.0               0.0        0.0        0.0              0.0   \n",
       "\n",
       "   alcohol binge episode  ...  vision blurred  vomiting  weepiness  \\\n",
       "0                    0.0  ...             0.0       0.0        0.0   \n",
       "\n",
       "   weight gain  welt  wheelchair bound  wheezing  withdraw  worry  \\\n",
       "0          0.0   0.0               0.0       0.0       0.0    0.0   \n",
       "\n",
       "   yellow sputum  \n",
       "0            1.0  \n",
       "\n",
       "[1 rows x 316 columns]"
      ]
     },
     "execution_count": 39,
     "metadata": {},
     "output_type": "execute_result"
    }
   ],
   "source": [
    "find"
   ]
  },
  {
   "cell_type": "code",
   "execution_count": 40,
   "metadata": {},
   "outputs": [
    {
     "data": {
      "text/plain": [
       "array(['embolism pulmonary'], dtype='<U35')"
      ]
     },
     "execution_count": 40,
     "metadata": {},
     "output_type": "execute_result"
    }
   ],
   "source": [
    "mnb_tot.predict(find)"
   ]
  },
  {
   "cell_type": "code",
   "execution_count": null,
   "metadata": {},
   "outputs": [],
   "source": []
  }
 ],
 "metadata": {
  "kernelspec": {
   "display_name": "Python 3",
   "language": "python",
   "name": "python3"
  },
  "language_info": {
   "codemirror_mode": {
    "name": "ipython",
    "version": 3
   },
   "file_extension": ".py",
   "mimetype": "text/x-python",
   "name": "python",
   "nbconvert_exporter": "python",
   "pygments_lexer": "ipython3",
   "version": "3.7.4"
  }
 },
 "nbformat": 4,
 "nbformat_minor": 2
}
